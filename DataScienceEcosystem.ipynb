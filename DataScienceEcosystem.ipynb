{
 "cells": [
  {
   "cell_type": "markdown",
   "id": "c834e152-aeb5-4d4d-9a73-ba07d8421d93",
   "metadata": {},
   "source": [
    "# Data Science Tools and Ecosystem"
   ]
  },
  {
   "cell_type": "markdown",
   "id": "0562fa3d-f7b6-444b-86bf-e837f7dc91c0",
   "metadata": {},
   "source": [
    "## This is a summary of popular tools and ecosystems in Data Science"
   ]
  },
  {
   "cell_type": "markdown",
   "id": "f3402ac9-3915-49bf-97fe-8e2e87863643",
   "metadata": {},
   "source": [
    "**Objectives**\n",
    "- Know Popular languages used by Data Scientists\n",
    "- Know Less popular languages in the world of Data Science\n",
    "- Know Some of the most used libraries in Data Science\n",
    "- Know some Data Science Tools\n",
    "- See some examples of evaluating arithmetic expressions in Python."
   ]
  },
  {
   "cell_type": "markdown",
   "id": "fb493a2b-610a-4187-a3ba-b4aab5be9109",
   "metadata": {},
   "source": [
    "## Popular languages used by Data Scientists:\n",
    "- ## Python\n",
    "- ## R\n",
    "- ## SQL\n",
    "\n",
    "## Other less popular languages in the world of Data Science:\n",
    "- ### Java\n",
    "- ### Scala\n",
    "- ### Lua"
   ]
  },
  {
   "cell_type": "markdown",
   "id": "de08f5ff-b8f5-4740-8109-35b38ecf9d00",
   "metadata": {},
   "source": [
    "## These are some of the most used libraries in Data Science\n",
    "- ### NumPy: a library for numerical calculation\n",
    "- ### Pandas: a library for data analysis\n",
    "- ### Scikit-learn: a library for machine learning\n",
    "- ### Matplotlib: a library for data visualization\n",
    "- ### tidyverse: a set of packages for data analysis\n",
    "- ### ggplot2: a library for data visualization\n",
    "- ### caret: a library for machine learning\n",
    "- ### dplyr: a library for data manipulation"
   ]
  },
  {
   "cell_type": "markdown",
   "id": "6b1376b6-e3a8-4b1a-9463-e9fe731c8c7f",
   "metadata": {},
   "source": [
    "## Data Science Tools\n",
    "- ### Git: A version control system that helps you track changes to your code and collaborate with others.\n",
    "- ### Visual Studio Code: A code editor that is extensible and customizable.\n",
    "- ### Anaconda: A distribution of Python that includes a variety of libraries for data science.\n",
    "- ### RStudio: An integrated development environment (IDE) for R.\n",
    "- ### Jupyter Notebook: A web-based environment for creating and sharing documents that contain code, equations, visualizations, and narrative text."
   ]
  },
  {
   "cell_type": "markdown",
   "id": "a9dce80c-681d-4d3a-997a-a4bd04c04cb0",
   "metadata": {
    "tags": []
   },
   "source": [
    "## Below are a few examples of evaluating arithmetic expressions in Python"
   ]
  },
  {
   "cell_type": "code",
   "execution_count": 19,
   "id": "c72a92f4-ef01-41d7-918c-a09ab3a511b0",
   "metadata": {
    "tags": []
   },
   "outputs": [
    {
     "data": {
      "text/plain": [
       "17"
      ]
     },
     "execution_count": 19,
     "metadata": {},
     "output_type": "execute_result"
    }
   ],
   "source": [
    "# A simple arithmetic expression\n",
    "(3 * 4) + 5"
   ]
  },
  {
   "cell_type": "code",
   "execution_count": 20,
   "id": "d6ac44d8-8537-4974-ab8b-58bf6ea018c5",
   "metadata": {
    "tags": []
   },
   "outputs": [
    {
     "name": "stdout",
     "output_type": "stream",
     "text": [
      "3\n"
     ]
    }
   ],
   "source": [
    "# This expression converts 200 minutes into hours by dividing 200 by 60.\n",
    "\n",
    "minutes = 200\n",
    "hours = int(minutes/60)\n",
    "print(hours)"
   ]
  },
  {
   "cell_type": "markdown",
   "id": "4c4a5022-399a-40a8-a94d-8d13af2f6b3b",
   "metadata": {
    "tags": []
   },
   "source": [
    "## Author\n",
    "Carlos Abimael Gonzalez"
   ]
  }
 ],
 "metadata": {
  "kernelspec": {
   "display_name": "Python",
   "language": "python",
   "name": "conda-env-python-py"
  },
  "language_info": {
   "codemirror_mode": {
    "name": "ipython",
    "version": 3
   },
   "file_extension": ".py",
   "mimetype": "text/x-python",
   "name": "python",
   "nbconvert_exporter": "python",
   "pygments_lexer": "ipython3",
   "version": "3.7.12"
  }
 },
 "nbformat": 4,
 "nbformat_minor": 5
}
